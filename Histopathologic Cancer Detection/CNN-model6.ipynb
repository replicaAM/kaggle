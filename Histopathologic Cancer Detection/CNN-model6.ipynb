{
 "cells": [
  {
   "cell_type": "code",
   "execution_count": 2,
   "metadata": {},
   "outputs": [
    {
     "name": "stderr",
     "output_type": "stream",
     "text": [
      "Using TensorFlow backend.\n"
     ]
    }
   ],
   "source": [
    "from numpy.random import seed\n",
    "seed(1337)\n",
    "\n",
    "import pandas as pd\n",
    "import numpy as np\n",
    "\n",
    "\n",
    "import tensorflow as tf\n",
    "import keras\n",
    "from keras.preprocessing.image import ImageDataGenerator,img_to_array,array_to_img\n",
    "from keras.layers import Conv2D, MaxPooling2D\n",
    "from keras.layers import Input, Dense, Dropout, Flatten, Activation\n",
    "\n",
    "from keras.models import Model, Sequential, load_model\n",
    "from keras.callbacks import EarlyStopping, ReduceLROnPlateau, ModelCheckpoint, TensorBoard\n",
    "from keras.optimizers import Adam\n",
    "\n",
    "import os\n",
    "\n",
    "from sklearn.metrics import auc, classification_report, confusion_matrix, roc_curve\n",
    "from sklearn.model_selection import train_test_split\n",
    "import itertools\n",
    "import shutil\n",
    "import matplotlib.pyplot as plt\n",
    "%matplotlib inline"
   ]
  },
  {
   "cell_type": "code",
   "execution_count": 3,
   "metadata": {},
   "outputs": [],
   "source": [
    "batch_size = 30\n",
    "image_size = (96,96)"
   ]
  },
  {
   "cell_type": "code",
   "execution_count": 4,
   "metadata": {},
   "outputs": [],
   "source": [
    "root_dir = '.'\n",
    "train_dir = os.path.join(root_dir,'input','train')\n",
    "test_dir = os.path.join(root_dir,'input','test')\n",
    "save_dir = os.path.join(root_dir,'save')"
   ]
  },
  {
   "cell_type": "code",
   "execution_count": 5,
   "metadata": {},
   "outputs": [
    {
     "name": "stdout",
     "output_type": "stream",
     "text": [
      "Train input files: 220025\n",
      "Test input files: 57458\n"
     ]
    }
   ],
   "source": [
    "train_input = list(filter(lambda s: s.endswith(\".tif\"), os.listdir(train_dir)))\n",
    "test_input = list(filter(lambda s: s.endswith(\".tif\"), os.listdir(test_dir)))\n",
    "print(\"Train input files: {}\".format(len(train_input)))\n",
    "print(\"Test input files: {}\".format(len(test_input)))"
   ]
  },
  {
   "cell_type": "code",
   "execution_count": 8,
   "metadata": {},
   "outputs": [
    {
     "data": {
      "text/html": [
       "<div>\n",
       "<style scoped>\n",
       "    .dataframe tbody tr th:only-of-type {\n",
       "        vertical-align: middle;\n",
       "    }\n",
       "\n",
       "    .dataframe tbody tr th {\n",
       "        vertical-align: top;\n",
       "    }\n",
       "\n",
       "    .dataframe thead th {\n",
       "        text-align: right;\n",
       "    }\n",
       "</style>\n",
       "<table border=\"1\" class=\"dataframe\">\n",
       "  <thead>\n",
       "    <tr style=\"text-align: right;\">\n",
       "      <th></th>\n",
       "      <th>id</th>\n",
       "      <th>label</th>\n",
       "      <th>path</th>\n",
       "    </tr>\n",
       "  </thead>\n",
       "  <tbody>\n",
       "    <tr>\n",
       "      <th>0</th>\n",
       "      <td>f38a6374c348f90b587e046aac6079959adf3835</td>\n",
       "      <td>0</td>\n",
       "      <td>f38a6374c348f90b587e046aac6079959adf3835.tif</td>\n",
       "    </tr>\n",
       "    <tr>\n",
       "      <th>1</th>\n",
       "      <td>c18f2d887b7ae4f6742ee445113fa1aef383ed77</td>\n",
       "      <td>1</td>\n",
       "      <td>c18f2d887b7ae4f6742ee445113fa1aef383ed77.tif</td>\n",
       "    </tr>\n",
       "    <tr>\n",
       "      <th>2</th>\n",
       "      <td>755db6279dae599ebb4d39a9123cce439965282d</td>\n",
       "      <td>0</td>\n",
       "      <td>755db6279dae599ebb4d39a9123cce439965282d.tif</td>\n",
       "    </tr>\n",
       "    <tr>\n",
       "      <th>3</th>\n",
       "      <td>bc3f0c64fb968ff4a8bd33af6971ecae77c75e08</td>\n",
       "      <td>0</td>\n",
       "      <td>bc3f0c64fb968ff4a8bd33af6971ecae77c75e08.tif</td>\n",
       "    </tr>\n",
       "    <tr>\n",
       "      <th>4</th>\n",
       "      <td>068aba587a4950175d04c680d38943fd488d6a9d</td>\n",
       "      <td>0</td>\n",
       "      <td>068aba587a4950175d04c680d38943fd488d6a9d.tif</td>\n",
       "    </tr>\n",
       "  </tbody>\n",
       "</table>\n",
       "</div>"
      ],
      "text/plain": [
       "                                         id label  \\\n",
       "0  f38a6374c348f90b587e046aac6079959adf3835     0   \n",
       "1  c18f2d887b7ae4f6742ee445113fa1aef383ed77     1   \n",
       "2  755db6279dae599ebb4d39a9123cce439965282d     0   \n",
       "3  bc3f0c64fb968ff4a8bd33af6971ecae77c75e08     0   \n",
       "4  068aba587a4950175d04c680d38943fd488d6a9d     0   \n",
       "\n",
       "                                           path  \n",
       "0  f38a6374c348f90b587e046aac6079959adf3835.tif  \n",
       "1  c18f2d887b7ae4f6742ee445113fa1aef383ed77.tif  \n",
       "2  755db6279dae599ebb4d39a9123cce439965282d.tif  \n",
       "3  bc3f0c64fb968ff4a8bd33af6971ecae77c75e08.tif  \n",
       "4  068aba587a4950175d04c680d38943fd488d6a9d.tif  "
      ]
     },
     "execution_count": 8,
     "metadata": {},
     "output_type": "execute_result"
    }
   ],
   "source": [
    "df = pd.read_csv(\"train_labels.csv\", dtype=str)\n",
    "df['path'] = df['id'].apply(lambda s: s+'.tif')\n",
    "df.head()"
   ]
  },
  {
   "cell_type": "code",
   "execution_count": 6,
   "metadata": {},
   "outputs": [
    {
     "name": "stdout",
     "output_type": "stream",
     "text": [
      "0    130908\n",
      "1     89117\n",
      "Name: label, dtype: int64 1.468945319074924\n"
     ]
    }
   ],
   "source": [
    "ratio = df['label'].value_counts()[0]/df['label'].value_counts()[1]\n",
    "\n",
    "print(df['label'].value_counts(), ratio)"
   ]
  },
  {
   "cell_type": "code",
   "execution_count": 9,
   "metadata": {},
   "outputs": [],
   "source": [
    "train_df, val_df = train_test_split(df, test_size=0.2, stratify=df.label)"
   ]
  },
  {
   "cell_type": "code",
   "execution_count": 10,
   "metadata": {},
   "outputs": [],
   "source": [
    "aug = {'horizontal_flip': True,\n",
    "       'vertical_flip': True,\n",
    "       'rotation_range': 90}\n",
    "\n",
    "datagen = ImageDataGenerator(rescale=1.0/255, **aug)\n",
    "\n",
    "val_datagen = ImageDataGenerator(rescale=1.0/255)"
   ]
  },
  {
   "cell_type": "code",
   "execution_count": 11,
   "metadata": {},
   "outputs": [
    {
     "name": "stdout",
     "output_type": "stream",
     "text": [
      "Found 176020 images belonging to 2 classes.\n"
     ]
    }
   ],
   "source": [
    "train_gen=datagen.flow_from_dataframe(dataframe=train_df,\n",
    "                                      directory=train_dir,\n",
    "                                      class_mode='binary',\n",
    "                                      x_col=\"path\",\n",
    "                                      y_col=\"label\",\n",
    "                                      subset=None,\n",
    "                                      batch_size=batch_size,\n",
    "                                      shuffle=True,\n",
    "                                      target_size=image_size)"
   ]
  },
  {
   "cell_type": "code",
   "execution_count": 12,
   "metadata": {},
   "outputs": [
    {
     "name": "stdout",
     "output_type": "stream",
     "text": [
      "Found 44005 images belonging to 2 classes.\n"
     ]
    }
   ],
   "source": [
    "val_gen=val_datagen.flow_from_dataframe(dataframe=val_df,\n",
    "                                        directory=train_dir,\n",
    "                                        class_mode='binary',\n",
    "                                        x_col=\"path\",\n",
    "                                        y_col=\"label\",\n",
    "                                        subset=None,\n",
    "                                        batch_size=batch_size,\n",
    "                                        shuffle=True,\n",
    "                                        target_size=image_size)"
   ]
  },
  {
   "cell_type": "code",
   "execution_count": 13,
   "metadata": {},
   "outputs": [
    {
     "name": "stdout",
     "output_type": "stream",
     "text": [
      "Found 44005 images belonging to 2 classes.\n"
     ]
    }
   ],
   "source": [
    "test_datagen = ImageDataGenerator(rescale=1.0/255)\n",
    "\n",
    "test_gen=test_datagen.flow_from_dataframe(dataframe=val_df,\n",
    "                                          directory=train_dir,\n",
    "                                          class_mode='binary',\n",
    "                                          x_col=\"path\",\n",
    "                                          y_col=\"label\",\n",
    "                                          batch_size=65,\n",
    "                                          shuffle=False,\n",
    "                                          target_size=image_size)"
   ]
  },
  {
   "cell_type": "code",
   "execution_count": 88,
   "metadata": {},
   "outputs": [
    {
     "name": "stdout",
     "output_type": "stream",
     "text": [
      "_________________________________________________________________\n",
      "Layer (type)                 Output Shape              Param #   \n",
      "=================================================================\n",
      "input_6 (InputLayer)         (None, 96, 96, 3)         0         \n",
      "_________________________________________________________________\n",
      "conv2d_13 (Conv2D)           (None, 96, 96, 32)        896       \n",
      "_________________________________________________________________\n",
      "max_pooling2d_13 (MaxPooling (None, 48, 48, 32)        0         \n",
      "_________________________________________________________________\n",
      "dropout_18 (Dropout)         (None, 48, 48, 32)        0         \n",
      "_________________________________________________________________\n",
      "conv2d_14 (Conv2D)           (None, 48, 48, 64)        18496     \n",
      "_________________________________________________________________\n",
      "max_pooling2d_14 (MaxPooling (None, 24, 24, 64)        0         \n",
      "_________________________________________________________________\n",
      "dropout_19 (Dropout)         (None, 24, 24, 64)        0         \n",
      "_________________________________________________________________\n",
      "flatten_6 (Flatten)          (None, 36864)             0         \n",
      "_________________________________________________________________\n",
      "dense_16 (Dense)             (None, 512)               18874880  \n",
      "_________________________________________________________________\n",
      "dropout_20 (Dropout)         (None, 512)               0         \n",
      "_________________________________________________________________\n",
      "dense_17 (Dense)             (None, 256)               131328    \n",
      "_________________________________________________________________\n",
      "dense_18 (Dense)             (None, 1)                 257       \n",
      "=================================================================\n",
      "Total params: 19,025,857\n",
      "Trainable params: 19,025,857\n",
      "Non-trainable params: 0\n",
      "_________________________________________________________________\n"
     ]
    }
   ],
   "source": [
    "filters = {'CONV1': 32, 'CONV2': 64}\n",
    "kernel_size = (3, 3)\n",
    "pool_size = (2, 2)\n",
    "\n",
    "inputs = Input(shape=(*image_size,3))\n",
    "x = Conv2D(filters=filters['CONV1'], kernel_size=kernel_size, \n",
    "           activation='relu', padding='same')(inputs)\n",
    "x = MaxPooling2D(pool_size=pool_size)(x)\n",
    "x = Dropout(0.3)(x)\n",
    "\n",
    "x = Conv2D(filters=filters['CONV2'], kernel_size=kernel_size, \n",
    "           activation='relu', padding='same')(x)\n",
    "x = MaxPooling2D(pool_size=pool_size)(x)\n",
    "x = Dropout(0.3)(x)\n",
    "\n",
    "x = Flatten()(x)\n",
    "\n",
    "x = Dense(512, activation='relu')(x)\n",
    "x = Dropout(0.5)(x)\n",
    "x = Dense(256, activation='relu')(x)\n",
    "predictions = Dense(1, activation='sigmoid')(x)\n",
    "\n",
    "model = Model(inputs=inputs, outputs=predictions)\n",
    "\n",
    "model.summary()"
   ]
  },
  {
   "cell_type": "code",
   "execution_count": 14,
   "metadata": {},
   "outputs": [],
   "source": [
    "def auc_metric(ytrue, ypred):\n",
    "    auc = tf.metrics.auc(ytrue, ypred)[1]\n",
    "    keras.backend.get_session().run(tf.local_variables_initializer())\n",
    "    return auc\n",
    "\n",
    "def steps_from_gen(generator):\n",
    "    return np.ceil(generator.n//generator.batch_size)"
   ]
  },
  {
   "cell_type": "code",
   "execution_count": 89,
   "metadata": {},
   "outputs": [],
   "source": [
    "optimizer = Adam(0.001)\n",
    "model.compile(optimizer, loss = \"binary_crossentropy\", metrics=[\"accuracy\", auc_metric])"
   ]
  },
  {
   "cell_type": "code",
   "execution_count": 64,
   "metadata": {},
   "outputs": [
    {
     "name": "stdout",
     "output_type": "stream",
     "text": [
      "1.468945319074924\n"
     ]
    }
   ],
   "source": [
    "save_file = os.path.join(save_dir, 'model6-{epoch:02d}-{val_acc:.3f}-{val_auc_metric:.3f}.h5')\n",
    "print(ratio)"
   ]
  },
  {
   "cell_type": "code",
   "execution_count": 15,
   "metadata": {},
   "outputs": [
    {
     "name": "stdout",
     "output_type": "stream",
     "text": [
      "WARNING:tensorflow:From /usr/local/lib/python3.5/dist-packages/tensorflow/python/framework/op_def_library.py:263: colocate_with (from tensorflow.python.framework.ops) is deprecated and will be removed in a future version.\n",
      "Instructions for updating:\n",
      "Colocations handled automatically by placer.\n",
      "WARNING:tensorflow:From /usr/local/lib/python3.5/dist-packages/keras/backend/tensorflow_backend.py:3445: calling dropout (from tensorflow.python.ops.nn_ops) with keep_prob is deprecated and will be removed in a future version.\n",
      "Instructions for updating:\n",
      "Please use `rate` instead of `keep_prob`. Rate should be set to `rate = 1 - keep_prob`.\n",
      "WARNING:tensorflow:From /usr/local/lib/python3.5/dist-packages/tensorflow/python/ops/metrics_impl.py:526: to_float (from tensorflow.python.ops.math_ops) is deprecated and will be removed in a future version.\n",
      "Instructions for updating:\n",
      "Use tf.cast instead.\n",
      "WARNING:tensorflow:From /usr/local/lib/python3.5/dist-packages/tensorflow/python/ops/metrics_impl.py:788: div (from tensorflow.python.ops.math_ops) is deprecated and will be removed in a future version.\n",
      "Instructions for updating:\n",
      "Deprecated in favor of operator or tf.math.divide.\n",
      "WARNING:tensorflow:From /usr/local/lib/python3.5/dist-packages/tensorflow/python/ops/math_ops.py:3066: to_int32 (from tensorflow.python.ops.math_ops) is deprecated and will be removed in a future version.\n",
      "Instructions for updating:\n",
      "Use tf.cast instead.\n"
     ]
    }
   ],
   "source": [
    "model = load_model(max([os.path.join(save_dir,f) for f in os.listdir(save_dir)],\n",
    "                       key=os.path.getctime), custom_objects={'auc_metric': auc_metric})"
   ]
  },
  {
   "cell_type": "code",
   "execution_count": 15,
   "metadata": {},
   "outputs": [
    {
     "name": "stdout",
     "output_type": "stream",
     "text": [
      "WARNING:tensorflow:From /usr/local/lib/python3.5/dist-packages/tensorflow/python/framework/op_def_library.py:263: colocate_with (from tensorflow.python.framework.ops) is deprecated and will be removed in a future version.\n",
      "Instructions for updating:\n",
      "Colocations handled automatically by placer.\n",
      "WARNING:tensorflow:From /usr/local/lib/python3.5/dist-packages/keras/backend/tensorflow_backend.py:3445: calling dropout (from tensorflow.python.ops.nn_ops) with keep_prob is deprecated and will be removed in a future version.\n",
      "Instructions for updating:\n",
      "Please use `rate` instead of `keep_prob`. Rate should be set to `rate = 1 - keep_prob`.\n",
      "WARNING:tensorflow:From /usr/local/lib/python3.5/dist-packages/tensorflow/python/ops/metrics_impl.py:526: to_float (from tensorflow.python.ops.math_ops) is deprecated and will be removed in a future version.\n",
      "Instructions for updating:\n",
      "Use tf.cast instead.\n",
      "WARNING:tensorflow:From /usr/local/lib/python3.5/dist-packages/tensorflow/python/ops/metrics_impl.py:788: div (from tensorflow.python.ops.math_ops) is deprecated and will be removed in a future version.\n",
      "Instructions for updating:\n",
      "Deprecated in favor of operator or tf.math.divide.\n",
      "WARNING:tensorflow:From /usr/local/lib/python3.5/dist-packages/tensorflow/python/ops/math_ops.py:3066: to_int32 (from tensorflow.python.ops.math_ops) is deprecated and will be removed in a future version.\n",
      "Instructions for updating:\n",
      "Use tf.cast instead.\n"
     ]
    }
   ],
   "source": [
    "model = load_model(os.path.join(save_dir,'best.h5'), custom_objects={'auc_metric': auc_metric})"
   ]
  },
  {
   "cell_type": "code",
   "execution_count": 17,
   "metadata": {
    "scrolled": false
   },
   "outputs": [
    {
     "name": "stdout",
     "output_type": "stream",
     "text": [
      "Epoch 1/20\n",
      "5867/5867 [==============================] - 4268s 727ms/step - loss: 0.3642 - acc: 0.8596 - auc_metric: 0.9300 - val_loss: 0.3111 - val_acc: 0.8715 - val_auc_metric: 0.9304\n",
      "\n",
      "Epoch 00001: val_loss improved from inf to 0.31112, saving model to ./save/model6-01-0.871-0.930.h5\n",
      "Epoch 2/20\n",
      "5867/5867 [==============================] - 4311s 735ms/step - loss: 0.3612 - acc: 0.8600 - auc_metric: 0.9308 - val_loss: 0.3265 - val_acc: 0.8666 - val_auc_metric: 0.9310\n",
      "\n",
      "Epoch 00002: val_loss did not improve from 0.31112\n",
      "Epoch 3/20\n",
      "5867/5867 [==============================] - 4267s 727ms/step - loss: 0.3622 - acc: 0.8602 - auc_metric: 0.9310 - val_loss: 0.3083 - val_acc: 0.8752 - val_auc_metric: 0.9313\n",
      "\n",
      "Epoch 00003: val_loss improved from 0.31112 to 0.30831, saving model to ./save/model6-03-0.875-0.931.h5\n",
      "Epoch 4/20\n",
      "5867/5867 [==============================] - 4245s 724ms/step - loss: 0.3582 - acc: 0.8625 - auc_metric: 0.9316 - val_loss: 0.3227 - val_acc: 0.8717 - val_auc_metric: 0.9318\n",
      "\n",
      "Epoch 00004: val_loss did not improve from 0.30831\n",
      "Epoch 5/20\n",
      "5867/5867 [==============================] - 4190s 714ms/step - loss: 0.3563 - acc: 0.8627 - auc_metric: 0.9319 - val_loss: 0.3255 - val_acc: 0.8654 - val_auc_metric: 0.9319\n",
      "\n",
      "Epoch 00005: val_loss did not improve from 0.30831\n",
      "Epoch 00005: early stopping\n"
     ]
    }
   ],
   "source": [
    "train_step = steps_from_gen(train_gen)\n",
    "val_step = steps_from_gen(val_gen)\n",
    "\n",
    "#class_weight = {0: 1., 1: np.around(ratio, decimals=1)}\n",
    "class_weight = {0: 1., 1: 1.2}\n",
    "\n",
    "save_file = os.path.join(save_dir, 'model6-{epoch:02d}-{val_acc:.3f}-{val_auc_metric:.3f}.h5')\n",
    "\n",
    "check_for_save = False\n",
    "\n",
    "if check_for_save and os.isfile(save_file):\n",
    "    model = load_model(save_file, custom_objects={'auc_metric': auc_metric})\n",
    "\n",
    "#callbacks\n",
    "ES = EarlyStopping(monitor='val_loss',\n",
    "                   min_delta=0.0001,\n",
    "                   patience=2,\n",
    "                   verbose=2,\n",
    "                   mode='min')\n",
    "\n",
    "TB = TensorBoard(log_dir='./logs',\n",
    "                 write_graph=True,\n",
    "                 histogram_freq=0,\n",
    "                 update_freq=10000)\n",
    "\n",
    "MC = ModelCheckpoint(filepath=save_file,\n",
    "                     monitor='val_loss',\n",
    "                     mode='min',\n",
    "                     save_best_only=True,\n",
    "                     verbose=1)\n",
    "\n",
    "RL = ReduceLROnPlateau(monitor='val_loss', factor=0.2,\n",
    "                              patience=5, min_lr=0.001)\n",
    "\n",
    "\n",
    "callbacks = [ES,TB,MC] #,RL]\n",
    "\n",
    "history = model.fit_generator(generator=train_gen,\n",
    "                    steps_per_epoch=train_step,\n",
    "                    validation_data=val_gen,\n",
    "                    validation_steps=val_step,\n",
    "                    class_weight = class_weight,\n",
    "                    #initial_epoch=0,\n",
    "                    epochs=20,\n",
    "                    verbose=1,\n",
    "                    callbacks=callbacks)\n"
   ]
  },
  {
   "cell_type": "code",
   "execution_count": 19,
   "metadata": {},
   "outputs": [],
   "source": [
    "model.save(os.path.join(save_dir, 'best2.h5'))"
   ]
  },
  {
   "cell_type": "code",
   "execution_count": 20,
   "metadata": {},
   "outputs": [
    {
     "data": {
      "image/png": "[encoded data removed]",
      "text/plain": [
       "<Figure size 432x288 with 1 Axes>"
      ]
     },
     "metadata": {
      "needs_background": "light"
     },
     "output_type": "display_data"
    },
    {
     "data": {
      "image/png": "[encoded data removed]",
      "text/plain": [
       "<Figure size 432x288 with 1 Axes>"
      ]
     },
     "metadata": {
      "needs_background": "light"
     },
     "output_type": "display_data"
    },
    {
     "data": {
      "image/png": "[encoded data removed]",
      "text/plain": [
       "<Figure size 432x288 with 1 Axes>"
      ]
     },
     "metadata": {
      "needs_background": "light"
     },
     "output_type": "display_data"
    }
   ],
   "source": [
    "plt.plot(history.history['acc'])\n",
    "plt.plot(history.history['val_acc'])\n",
    "plt.title('model accuracy')\n",
    "plt.ylabel('accuracy')\n",
    "plt.xlabel('epoch')\n",
    "plt.legend(['train', 'validation'], loc='upper left')\n",
    "plt.show()\n",
    "\n",
    "plt.plot(history.history['loss'])\n",
    "plt.plot(history.history['val_loss'])\n",
    "plt.title('model loss')\n",
    "plt.ylabel('loss')\n",
    "plt.xlabel('epoch')\n",
    "plt.legend(['train', 'validation'], loc='upper left')\n",
    "plt.show()\n",
    "\n",
    "plt.plot(history.history['auc_metric'])\n",
    "plt.plot(history.history['val_auc_metric'])\n",
    "plt.title('ROC AUC ')\n",
    "plt.ylabel('auc')\n",
    "plt.xlabel('epoch')\n",
    "plt.legend(['train', 'validation'], loc='upper left')\n",
    "plt.show()"
   ]
  },
  {
   "cell_type": "code",
   "execution_count": 21,
   "metadata": {
    "scrolled": true
   },
   "outputs": [
    {
     "name": "stdout",
     "output_type": "stream",
     "text": [
      "677/677 [==============================] - 375s 553ms/step\n"
     ]
    }
   ],
   "source": [
    "steps = steps_from_gen(test_gen)\n",
    "test_gen.reset()\n",
    "\n",
    "y_preds = model.predict_generator(test_gen,verbose=1,steps=steps, workers=5)"
   ]
  },
  {
   "cell_type": "code",
   "execution_count": 22,
   "metadata": {},
   "outputs": [
    {
     "name": "stdout",
     "output_type": "stream",
     "text": [
      "AUC score : 0.9360888771756929\n"
     ]
    }
   ],
   "source": [
    "labels = test_gen.classes\n",
    "\n",
    "fpr_keras, tpr_keras, thresholds_keras = roc_curve(labels, y_preds)\n",
    "auc_keras = auc(fpr_keras, tpr_keras)\n",
    "print('AUC score :', + auc_keras)"
   ]
  },
  {
   "cell_type": "code",
   "execution_count": 51,
   "metadata": {},
   "outputs": [
    {
     "name": "stdout",
     "output_type": "stream",
     "text": [
      "              precision    recall  f1-score   support\n",
      "\n",
      "           0       0.89      0.89      0.89     26182\n",
      "           1       0.84      0.83      0.84     17823\n",
      "\n",
      "   micro avg       0.87      0.87      0.87     44005\n",
      "   macro avg       0.86      0.86      0.86     44005\n",
      "weighted avg       0.87      0.87      0.87     44005\n",
      "\n"
     ]
    }
   ],
   "source": [
    "threshold = 0.395\n",
    "y_pred_binary = np.where(y_preds > threshold, 1, 0)\n",
    "\n",
    "print(classification_report(labels, y_pred_binary))"
   ]
  },
  {
   "cell_type": "code",
   "execution_count": 52,
   "metadata": {},
   "outputs": [
    {
     "data": {
      "text/plain": [
       "array([[23285,  2897],\n",
       "       [ 2966, 14857]])"
      ]
     },
     "execution_count": 52,
     "metadata": {},
     "output_type": "execute_result"
    }
   ],
   "source": [
    "confusion_matrix(labels, y_pred_binary)"
   ]
  },
  {
   "cell_type": "code",
   "execution_count": 53,
   "metadata": {},
   "outputs": [
    {
     "data": {
      "image/png": "[encoded data removed]",
      "text/plain": [
       "<Figure size 432x288 with 1 Axes>"
      ]
     },
     "metadata": {
      "needs_background": "light"
     },
     "output_type": "display_data"
    }
   ],
   "source": [
    "plt.figure(1)\n",
    "plt.plot([0, 1], [0, 1], 'k--')\n",
    "plt.plot(fpr_keras, tpr_keras, label='Keras (area = {:.3f})'.format(auc_keras))\n",
    "plt.xlabel('False positive rate')\n",
    "plt.ylabel('True positive rate')\n",
    "plt.title('ROC curve')\n",
    "plt.legend(loc='best')\n",
    "plt.show()"
   ]
  },
  {
   "cell_type": "code",
   "execution_count": 21,
   "metadata": {},
   "outputs": [],
   "source": [
    "#model.save(os.path.join(save_dir, 'best.h5'))"
   ]
  },
  {
   "cell_type": "code",
   "execution_count": 54,
   "metadata": {},
   "outputs": [
    {
     "name": "stdout",
     "output_type": "stream",
     "text": [
      "Found 57458 images.\n"
     ]
    },
    {
     "data": {
      "text/html": [
       "<div>\n",
       "<style scoped>\n",
       "    .dataframe tbody tr th:only-of-type {\n",
       "        vertical-align: middle;\n",
       "    }\n",
       "\n",
       "    .dataframe tbody tr th {\n",
       "        vertical-align: top;\n",
       "    }\n",
       "\n",
       "    .dataframe thead th {\n",
       "        text-align: right;\n",
       "    }\n",
       "</style>\n",
       "<table border=\"1\" class=\"dataframe\">\n",
       "  <thead>\n",
       "    <tr style=\"text-align: right;\">\n",
       "      <th></th>\n",
       "      <th>id</th>\n",
       "      <th>label</th>\n",
       "      <th>path</th>\n",
       "    </tr>\n",
       "  </thead>\n",
       "  <tbody>\n",
       "    <tr>\n",
       "      <th>0</th>\n",
       "      <td>0b2ea2a822ad23fdb1b5dd26653da899fbd2c0d5</td>\n",
       "      <td>0</td>\n",
       "      <td>0b2ea2a822ad23fdb1b5dd26653da899fbd2c0d5.tif</td>\n",
       "    </tr>\n",
       "    <tr>\n",
       "      <th>1</th>\n",
       "      <td>95596b92e5066c5c52466c90b69ff089b39f2737</td>\n",
       "      <td>0</td>\n",
       "      <td>95596b92e5066c5c52466c90b69ff089b39f2737.tif</td>\n",
       "    </tr>\n",
       "    <tr>\n",
       "      <th>2</th>\n",
       "      <td>248e6738860e2ebcf6258cdc1f32f299e0c76914</td>\n",
       "      <td>0</td>\n",
       "      <td>248e6738860e2ebcf6258cdc1f32f299e0c76914.tif</td>\n",
       "    </tr>\n",
       "    <tr>\n",
       "      <th>3</th>\n",
       "      <td>2c35657e312966e9294eac6841726ff3a748febf</td>\n",
       "      <td>0</td>\n",
       "      <td>2c35657e312966e9294eac6841726ff3a748febf.tif</td>\n",
       "    </tr>\n",
       "    <tr>\n",
       "      <th>4</th>\n",
       "      <td>145782eb7caa1c516acbe2eda34d9a3f31c41fd6</td>\n",
       "      <td>0</td>\n",
       "      <td>145782eb7caa1c516acbe2eda34d9a3f31c41fd6.tif</td>\n",
       "    </tr>\n",
       "  </tbody>\n",
       "</table>\n",
       "</div>"
      ],
      "text/plain": [
       "                                         id label  \\\n",
       "0  0b2ea2a822ad23fdb1b5dd26653da899fbd2c0d5     0   \n",
       "1  95596b92e5066c5c52466c90b69ff089b39f2737     0   \n",
       "2  248e6738860e2ebcf6258cdc1f32f299e0c76914     0   \n",
       "3  2c35657e312966e9294eac6841726ff3a748febf     0   \n",
       "4  145782eb7caa1c516acbe2eda34d9a3f31c41fd6     0   \n",
       "\n",
       "                                           path  \n",
       "0  0b2ea2a822ad23fdb1b5dd26653da899fbd2c0d5.tif  \n",
       "1  95596b92e5066c5c52466c90b69ff089b39f2737.tif  \n",
       "2  248e6738860e2ebcf6258cdc1f32f299e0c76914.tif  \n",
       "3  2c35657e312966e9294eac6841726ff3a748febf.tif  \n",
       "4  145782eb7caa1c516acbe2eda34d9a3f31c41fd6.tif  "
      ]
     },
     "execution_count": 54,
     "metadata": {},
     "output_type": "execute_result"
    }
   ],
   "source": [
    "test_df = pd.read_csv(\"sample_submission.csv\", dtype=str)\n",
    "test_df['path']=test_df['id'].apply(lambda s: s+'.tif')\n",
    "\n",
    "result_gen=ImageDataGenerator(rescale=1.0/255).flow_from_dataframe(\n",
    "    dataframe=test_df,\n",
    "    directory=test_dir,\n",
    "    x_col=\"path\",\n",
    "    batch_size=1,\n",
    "    shuffle=False,\n",
    "    class_mode=None,\n",
    "    target_size=image_size)\n",
    "\n",
    "test_df.head()"
   ]
  },
  {
   "cell_type": "code",
   "execution_count": 55,
   "metadata": {},
   "outputs": [
    {
     "name": "stdout",
     "output_type": "stream",
     "text": [
      "57458/57458 [==============================] - 4616s 80ms/step\n"
     ]
    }
   ],
   "source": [
    "result_steps = steps_from_gen(result_gen)\n",
    "result_gen.reset()\n",
    "\n",
    "y_test_preds = model.predict_generator(result_gen,verbose=1,steps=result_steps)"
   ]
  },
  {
   "cell_type": "code",
   "execution_count": 56,
   "metadata": {},
   "outputs": [
    {
     "data": {
      "text/html": [
       "<div>\n",
       "<style scoped>\n",
       "    .dataframe tbody tr th:only-of-type {\n",
       "        vertical-align: middle;\n",
       "    }\n",
       "\n",
       "    .dataframe tbody tr th {\n",
       "        vertical-align: top;\n",
       "    }\n",
       "\n",
       "    .dataframe thead th {\n",
       "        text-align: right;\n",
       "    }\n",
       "</style>\n",
       "<table border=\"1\" class=\"dataframe\">\n",
       "  <thead>\n",
       "    <tr style=\"text-align: right;\">\n",
       "      <th></th>\n",
       "      <th>id</th>\n",
       "      <th>label</th>\n",
       "      <th>path</th>\n",
       "    </tr>\n",
       "  </thead>\n",
       "  <tbody>\n",
       "    <tr>\n",
       "      <th>0</th>\n",
       "      <td>0b2ea2a822ad23fdb1b5dd26653da899fbd2c0d5</td>\n",
       "      <td>0.072662</td>\n",
       "      <td>0b2ea2a822ad23fdb1b5dd26653da899fbd2c0d5.tif</td>\n",
       "    </tr>\n",
       "    <tr>\n",
       "      <th>1</th>\n",
       "      <td>95596b92e5066c5c52466c90b69ff089b39f2737</td>\n",
       "      <td>0.413565</td>\n",
       "      <td>95596b92e5066c5c52466c90b69ff089b39f2737.tif</td>\n",
       "    </tr>\n",
       "    <tr>\n",
       "      <th>2</th>\n",
       "      <td>248e6738860e2ebcf6258cdc1f32f299e0c76914</td>\n",
       "      <td>0.073107</td>\n",
       "      <td>248e6738860e2ebcf6258cdc1f32f299e0c76914.tif</td>\n",
       "    </tr>\n",
       "    <tr>\n",
       "      <th>3</th>\n",
       "      <td>2c35657e312966e9294eac6841726ff3a748febf</td>\n",
       "      <td>0.160365</td>\n",
       "      <td>2c35657e312966e9294eac6841726ff3a748febf.tif</td>\n",
       "    </tr>\n",
       "    <tr>\n",
       "      <th>4</th>\n",
       "      <td>145782eb7caa1c516acbe2eda34d9a3f31c41fd6</td>\n",
       "      <td>0.221408</td>\n",
       "      <td>145782eb7caa1c516acbe2eda34d9a3f31c41fd6.tif</td>\n",
       "    </tr>\n",
       "  </tbody>\n",
       "</table>\n",
       "</div>"
      ],
      "text/plain": [
       "                                         id     label  \\\n",
       "0  0b2ea2a822ad23fdb1b5dd26653da899fbd2c0d5  0.072662   \n",
       "1  95596b92e5066c5c52466c90b69ff089b39f2737  0.413565   \n",
       "2  248e6738860e2ebcf6258cdc1f32f299e0c76914  0.073107   \n",
       "3  2c35657e312966e9294eac6841726ff3a748febf  0.160365   \n",
       "4  145782eb7caa1c516acbe2eda34d9a3f31c41fd6  0.221408   \n",
       "\n",
       "                                           path  \n",
       "0  0b2ea2a822ad23fdb1b5dd26653da899fbd2c0d5.tif  \n",
       "1  95596b92e5066c5c52466c90b69ff089b39f2737.tif  \n",
       "2  248e6738860e2ebcf6258cdc1f32f299e0c76914.tif  \n",
       "3  2c35657e312966e9294eac6841726ff3a748febf.tif  \n",
       "4  145782eb7caa1c516acbe2eda34d9a3f31c41fd6.tif  "
      ]
     },
     "execution_count": 56,
     "metadata": {},
     "output_type": "execute_result"
    }
   ],
   "source": [
    "test_df['label'] = y_test_preds\n",
    "test_df.head()"
   ]
  },
  {
   "cell_type": "code",
   "execution_count": 57,
   "metadata": {},
   "outputs": [],
   "source": [
    "test_df.to_csv(\"result1.6.csv\", columns=('id','label'), index=False, header=True)"
   ]
  },
  {
   "cell_type": "code",
   "execution_count": null,
   "metadata": {},
   "outputs": [],
   "source": []
  }
 ],
 "metadata": {
  "kernelspec": {
   "display_name": "Python 3",
   "language": "python",
   "name": "python3"
  },
  "language_info": {
   "codemirror_mode": {
    "name": "ipython",
    "version": 3
   },
   "file_extension": ".py",
   "mimetype": "text/x-python",
   "name": "python",
   "nbconvert_exporter": "python",
   "pygments_lexer": "ipython3",
   "version": "3.5.2"
  }
 },
 "nbformat": 4,
 "nbformat_minor": 2
}
